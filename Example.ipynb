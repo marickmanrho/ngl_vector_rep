{
 "cells": [
  {
   "cell_type": "markdown",
   "metadata": {},
   "source": [
    "# NGL view - Vector representation\n",
    "\n",
    "In this example a vector representation is added to a NGLviewer object.\n",
    "\n",
    "Our example needs `Numpy`, `NGLview` and our own `ngl_vector_rep` packages."
   ]
  },
  {
   "cell_type": "code",
   "execution_count": 2,
   "metadata": {
    "code_folding": [
     0
    ]
   },
   "outputs": [
    {
     "data": {
      "application/vnd.jupyter.widget-view+json": {
       "model_id": "9ad568a84fbd4612a99bf67bae3127b3",
       "version_major": 2,
       "version_minor": 0
      },
      "text/plain": []
     },
     "metadata": {},
     "output_type": "display_data"
    }
   ],
   "source": [
    "# Import packages\n",
    "import numpy as np\n",
    "import nglview as nv\n",
    "\n",
    "from ngl_vector_rep import add_vector_rep"
   ]
  },
  {
   "cell_type": "markdown",
   "metadata": {},
   "source": [
    "### Demo tube\n",
    "Let's generate the positions and directions of transition dipole moments on a tube"
   ]
  },
  {
   "cell_type": "code",
   "execution_count": 3,
   "metadata": {
    "code_folding": [
     0
    ]
   },
   "outputs": [],
   "source": [
    "# Demo tube creation\n",
    "def create_tube(N1, N2, R, h, gamma, alpha, beta, mu):\n",
    "    pos = np.zeros((N1 * N2, 3))\n",
    "    dip = np.zeros((N1 * N2, 3))\n",
    "\n",
    "    theta = 2 * np.pi / N2\n",
    "    idx = 0\n",
    "\n",
    "    for n1 in range(N1):\n",
    "        for n2 in range(N2):\n",
    "\n",
    "            pos[idx, :] = [\n",
    "                R * np.cos(n2 * theta + n1 * gamma),\n",
    "                R * np.sin(n2 * theta + n1 * gamma),\n",
    "                n1 * h,\n",
    "            ]\n",
    "            dip[idx, :] = [\n",
    "                -mu * np.sin(beta) * np.sin(n2 * theta + n1 * gamma - alpha),\n",
    "                mu * np.sin(beta) * np.cos(n2 * theta + n1 * gamma - alpha),\n",
    "                mu * np.cos(beta),\n",
    "            ]\n",
    "\n",
    "            idx += 1\n",
    "\n",
    "    return pos, dip"
   ]
  },
  {
   "cell_type": "markdown",
   "metadata": {},
   "source": [
    "### Let's generate our tube\n",
    "We create a demo array of vectors. Then we setup an empty `NGLview` instance using the `NGLWidget()` function. You could also add a vector rep to, for example, an `nv.show_mdanalysis()` view. At last we add our vector representation."
   ]
  },
  {
   "cell_type": "code",
   "execution_count": 13,
   "metadata": {
    "code_folding": [
     0
    ]
   },
   "outputs": [
    {
     "data": {
      "application/vnd.jupyter.widget-view+json": {
       "model_id": "cd85fdc3da21482c8d09d228f57807da",
       "version_major": 2,
       "version_minor": 0
      },
      "text/plain": [
       "NGLWidget()"
      ]
     },
     "metadata": {},
     "output_type": "display_data"
    }
   ],
   "source": [
    "# Generate tube and add vector representation in NGLview\n",
    "r, e = create_tube(100, 10, 100, 10, 0.25, np.pi / 4, np.pi / 4, 10)\n",
    "r = r - np.mean(r, axis=0)\n",
    "view = nv.NGLWidget()\n",
    "add_vector_rep(view, r, e)\n",
    "view"
   ]
  }
 ],
 "metadata": {
  "kernelspec": {
   "display_name": "Python 3",
   "language": "python",
   "name": "python3"
  },
  "language_info": {
   "codemirror_mode": {
    "name": "ipython",
    "version": 3
   },
   "file_extension": ".py",
   "mimetype": "text/x-python",
   "name": "python",
   "nbconvert_exporter": "python",
   "pygments_lexer": "ipython3",
   "version": "3.8.5"
  }
 },
 "nbformat": 4,
 "nbformat_minor": 4
}
